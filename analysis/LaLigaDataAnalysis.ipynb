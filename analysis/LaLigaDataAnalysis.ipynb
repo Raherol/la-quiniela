{
 "cells": [
  {
   "cell_type": "markdown",
   "metadata": {},
   "source": [
    "# Q1. Is it true that the home team is more likely to win?"
   ]
  },
  {
   "cell_type": "markdown",
   "metadata": {},
   "source": [
    "We begin by initializing the CSV file. It is necessary to check its content and adapt it to our needs."
   ]
  },
  {
   "cell_type": "code",
   "execution_count": 2,
   "metadata": {},
   "outputs": [
    {
     "data": {
      "text/html": [
       "<div>\n",
       "<style scoped>\n",
       "    .dataframe tbody tr th:only-of-type {\n",
       "        vertical-align: middle;\n",
       "    }\n",
       "\n",
       "    .dataframe tbody tr th {\n",
       "        vertical-align: top;\n",
       "    }\n",
       "\n",
       "    .dataframe thead th {\n",
       "        text-align: right;\n",
       "    }\n",
       "</style>\n",
       "<table border=\"1\" class=\"dataframe\">\n",
       "  <thead>\n",
       "    <tr style=\"text-align: right;\">\n",
       "      <th></th>\n",
       "      <th>season</th>\n",
       "      <th>division</th>\n",
       "      <th>matchday</th>\n",
       "      <th>date</th>\n",
       "      <th>time</th>\n",
       "      <th>home_team</th>\n",
       "      <th>away_team</th>\n",
       "      <th>score</th>\n",
       "    </tr>\n",
       "  </thead>\n",
       "  <tbody>\n",
       "    <tr>\n",
       "      <th>0</th>\n",
       "      <td>1928-1929</td>\n",
       "      <td>1</td>\n",
       "      <td>1</td>\n",
       "      <td>2/10/29</td>\n",
       "      <td>NaN</td>\n",
       "      <td>Arenas Club</td>\n",
       "      <td>Athletic Madrid</td>\n",
       "      <td>2:3</td>\n",
       "    </tr>\n",
       "    <tr>\n",
       "      <th>1</th>\n",
       "      <td>1928-1929</td>\n",
       "      <td>1</td>\n",
       "      <td>1</td>\n",
       "      <td>2/10/29</td>\n",
       "      <td>NaN</td>\n",
       "      <td>Espanyol</td>\n",
       "      <td>Real Unión</td>\n",
       "      <td>3:2</td>\n",
       "    </tr>\n",
       "    <tr>\n",
       "      <th>2</th>\n",
       "      <td>1928-1929</td>\n",
       "      <td>1</td>\n",
       "      <td>1</td>\n",
       "      <td>2/10/29</td>\n",
       "      <td>NaN</td>\n",
       "      <td>Real Madrid</td>\n",
       "      <td>Catalunya</td>\n",
       "      <td>5:0</td>\n",
       "    </tr>\n",
       "    <tr>\n",
       "      <th>3</th>\n",
       "      <td>1928-1929</td>\n",
       "      <td>1</td>\n",
       "      <td>1</td>\n",
       "      <td>2/10/29</td>\n",
       "      <td>NaN</td>\n",
       "      <td>Donostia</td>\n",
       "      <td>Athletic</td>\n",
       "      <td>1:1</td>\n",
       "    </tr>\n",
       "    <tr>\n",
       "      <th>4</th>\n",
       "      <td>1928-1929</td>\n",
       "      <td>1</td>\n",
       "      <td>1</td>\n",
       "      <td>2/12/29</td>\n",
       "      <td>NaN</td>\n",
       "      <td>Racing</td>\n",
       "      <td>Barcelona</td>\n",
       "      <td>0:2</td>\n",
       "    </tr>\n",
       "    <tr>\n",
       "      <th>...</th>\n",
       "      <td>...</td>\n",
       "      <td>...</td>\n",
       "      <td>...</td>\n",
       "      <td>...</td>\n",
       "      <td>...</td>\n",
       "      <td>...</td>\n",
       "      <td>...</td>\n",
       "      <td>...</td>\n",
       "    </tr>\n",
       "    <tr>\n",
       "      <th>48775</th>\n",
       "      <td>2021-2022</td>\n",
       "      <td>2</td>\n",
       "      <td>42</td>\n",
       "      <td>5/29/22</td>\n",
       "      <td>NaN</td>\n",
       "      <td>Real Oviedo</td>\n",
       "      <td>UD Ibiza</td>\n",
       "      <td>NaN</td>\n",
       "    </tr>\n",
       "    <tr>\n",
       "      <th>48776</th>\n",
       "      <td>2021-2022</td>\n",
       "      <td>2</td>\n",
       "      <td>42</td>\n",
       "      <td>5/29/22</td>\n",
       "      <td>NaN</td>\n",
       "      <td>Real Sociedad B</td>\n",
       "      <td>Real Zaragoza</td>\n",
       "      <td>NaN</td>\n",
       "    </tr>\n",
       "    <tr>\n",
       "      <th>48777</th>\n",
       "      <td>2021-2022</td>\n",
       "      <td>2</td>\n",
       "      <td>42</td>\n",
       "      <td>5/29/22</td>\n",
       "      <td>NaN</td>\n",
       "      <td>Sporting Gijón</td>\n",
       "      <td>UD Las Palmas</td>\n",
       "      <td>NaN</td>\n",
       "    </tr>\n",
       "    <tr>\n",
       "      <th>48778</th>\n",
       "      <td>2021-2022</td>\n",
       "      <td>2</td>\n",
       "      <td>42</td>\n",
       "      <td>5/29/22</td>\n",
       "      <td>NaN</td>\n",
       "      <td>CD Tenerife</td>\n",
       "      <td>FC Cartagena</td>\n",
       "      <td>NaN</td>\n",
       "    </tr>\n",
       "    <tr>\n",
       "      <th>48779</th>\n",
       "      <td>2021-2022</td>\n",
       "      <td>2</td>\n",
       "      <td>42</td>\n",
       "      <td>5/29/22</td>\n",
       "      <td>NaN</td>\n",
       "      <td>Real Valladolid</td>\n",
       "      <td>SD Huesca</td>\n",
       "      <td>NaN</td>\n",
       "    </tr>\n",
       "  </tbody>\n",
       "</table>\n",
       "<p>48780 rows × 8 columns</p>\n",
       "</div>"
      ],
      "text/plain": [
       "          season  division  matchday     date time        home_team  \\\n",
       "0      1928-1929         1         1  2/10/29  NaN      Arenas Club   \n",
       "1      1928-1929         1         1  2/10/29  NaN         Espanyol   \n",
       "2      1928-1929         1         1  2/10/29  NaN      Real Madrid   \n",
       "3      1928-1929         1         1  2/10/29  NaN         Donostia   \n",
       "4      1928-1929         1         1  2/12/29  NaN           Racing   \n",
       "...          ...       ...       ...      ...  ...              ...   \n",
       "48775  2021-2022         2        42  5/29/22  NaN      Real Oviedo   \n",
       "48776  2021-2022         2        42  5/29/22  NaN  Real Sociedad B   \n",
       "48777  2021-2022         2        42  5/29/22  NaN   Sporting Gijón   \n",
       "48778  2021-2022         2        42  5/29/22  NaN      CD Tenerife   \n",
       "48779  2021-2022         2        42  5/29/22  NaN  Real Valladolid   \n",
       "\n",
       "             away_team score  \n",
       "0      Athletic Madrid   2:3  \n",
       "1           Real Unión   3:2  \n",
       "2            Catalunya   5:0  \n",
       "3             Athletic   1:1  \n",
       "4            Barcelona   0:2  \n",
       "...                ...   ...  \n",
       "48775         UD Ibiza   NaN  \n",
       "48776    Real Zaragoza   NaN  \n",
       "48777    UD Las Palmas   NaN  \n",
       "48778     FC Cartagena   NaN  \n",
       "48779        SD Huesca   NaN  \n",
       "\n",
       "[48780 rows x 8 columns]"
      ]
     },
     "execution_count": 2,
     "metadata": {},
     "output_type": "execute_result"
    }
   ],
   "source": [
    "import pandas as pd\n",
    "import numpy as np\n",
    "import matplotlib.pyplot as plt\n",
    "\n",
    "pd.set_option(\"display.max_columns\", None)\n",
    "\n",
    "df = pd.read_csv('../laliga.csv')\n",
    "df"
   ]
  },
  {
   "cell_type": "markdown",
   "metadata": {},
   "source": [
    "The necessary information is contained within the score column. Its information can be broken into two new columns, home goals and away goals, for better handling. And additional result column that uses the 1, 2 or X format can also be added."
   ]
  },
  {
   "cell_type": "code",
   "execution_count": 3,
   "metadata": {},
   "outputs": [
    {
     "data": {
      "text/html": [
       "<div>\n",
       "<style scoped>\n",
       "    .dataframe tbody tr th:only-of-type {\n",
       "        vertical-align: middle;\n",
       "    }\n",
       "\n",
       "    .dataframe tbody tr th {\n",
       "        vertical-align: top;\n",
       "    }\n",
       "\n",
       "    .dataframe thead th {\n",
       "        text-align: right;\n",
       "    }\n",
       "</style>\n",
       "<table border=\"1\" class=\"dataframe\">\n",
       "  <thead>\n",
       "    <tr style=\"text-align: right;\">\n",
       "      <th></th>\n",
       "      <th>season</th>\n",
       "      <th>division</th>\n",
       "      <th>matchday</th>\n",
       "      <th>date</th>\n",
       "      <th>time</th>\n",
       "      <th>home_team</th>\n",
       "      <th>away_team</th>\n",
       "      <th>score</th>\n",
       "      <th>local_score</th>\n",
       "      <th>away_score</th>\n",
       "      <th>results</th>\n",
       "    </tr>\n",
       "  </thead>\n",
       "  <tbody>\n",
       "    <tr>\n",
       "      <th>0</th>\n",
       "      <td>1928-1929</td>\n",
       "      <td>1</td>\n",
       "      <td>1</td>\n",
       "      <td>2/10/29</td>\n",
       "      <td>NaN</td>\n",
       "      <td>Arenas Club</td>\n",
       "      <td>Athletic Madrid</td>\n",
       "      <td>2:3</td>\n",
       "      <td>2</td>\n",
       "      <td>3</td>\n",
       "      <td>2</td>\n",
       "    </tr>\n",
       "    <tr>\n",
       "      <th>1</th>\n",
       "      <td>1928-1929</td>\n",
       "      <td>1</td>\n",
       "      <td>1</td>\n",
       "      <td>2/10/29</td>\n",
       "      <td>NaN</td>\n",
       "      <td>Espanyol</td>\n",
       "      <td>Real Unión</td>\n",
       "      <td>3:2</td>\n",
       "      <td>3</td>\n",
       "      <td>2</td>\n",
       "      <td>1</td>\n",
       "    </tr>\n",
       "    <tr>\n",
       "      <th>2</th>\n",
       "      <td>1928-1929</td>\n",
       "      <td>1</td>\n",
       "      <td>1</td>\n",
       "      <td>2/10/29</td>\n",
       "      <td>NaN</td>\n",
       "      <td>Real Madrid</td>\n",
       "      <td>Catalunya</td>\n",
       "      <td>5:0</td>\n",
       "      <td>5</td>\n",
       "      <td>0</td>\n",
       "      <td>1</td>\n",
       "    </tr>\n",
       "    <tr>\n",
       "      <th>3</th>\n",
       "      <td>1928-1929</td>\n",
       "      <td>1</td>\n",
       "      <td>1</td>\n",
       "      <td>2/10/29</td>\n",
       "      <td>NaN</td>\n",
       "      <td>Donostia</td>\n",
       "      <td>Athletic</td>\n",
       "      <td>1:1</td>\n",
       "      <td>1</td>\n",
       "      <td>1</td>\n",
       "      <td>X</td>\n",
       "    </tr>\n",
       "    <tr>\n",
       "      <th>4</th>\n",
       "      <td>1928-1929</td>\n",
       "      <td>1</td>\n",
       "      <td>1</td>\n",
       "      <td>2/12/29</td>\n",
       "      <td>NaN</td>\n",
       "      <td>Racing</td>\n",
       "      <td>Barcelona</td>\n",
       "      <td>0:2</td>\n",
       "      <td>0</td>\n",
       "      <td>2</td>\n",
       "      <td>2</td>\n",
       "    </tr>\n",
       "    <tr>\n",
       "      <th>...</th>\n",
       "      <td>...</td>\n",
       "      <td>...</td>\n",
       "      <td>...</td>\n",
       "      <td>...</td>\n",
       "      <td>...</td>\n",
       "      <td>...</td>\n",
       "      <td>...</td>\n",
       "      <td>...</td>\n",
       "      <td>...</td>\n",
       "      <td>...</td>\n",
       "      <td>...</td>\n",
       "    </tr>\n",
       "    <tr>\n",
       "      <th>48775</th>\n",
       "      <td>2021-2022</td>\n",
       "      <td>2</td>\n",
       "      <td>42</td>\n",
       "      <td>5/29/22</td>\n",
       "      <td>NaN</td>\n",
       "      <td>Real Oviedo</td>\n",
       "      <td>UD Ibiza</td>\n",
       "      <td>NaN</td>\n",
       "      <td>NaN</td>\n",
       "      <td>NaN</td>\n",
       "      <td>None</td>\n",
       "    </tr>\n",
       "    <tr>\n",
       "      <th>48776</th>\n",
       "      <td>2021-2022</td>\n",
       "      <td>2</td>\n",
       "      <td>42</td>\n",
       "      <td>5/29/22</td>\n",
       "      <td>NaN</td>\n",
       "      <td>Real Sociedad B</td>\n",
       "      <td>Real Zaragoza</td>\n",
       "      <td>NaN</td>\n",
       "      <td>NaN</td>\n",
       "      <td>NaN</td>\n",
       "      <td>None</td>\n",
       "    </tr>\n",
       "    <tr>\n",
       "      <th>48777</th>\n",
       "      <td>2021-2022</td>\n",
       "      <td>2</td>\n",
       "      <td>42</td>\n",
       "      <td>5/29/22</td>\n",
       "      <td>NaN</td>\n",
       "      <td>Sporting Gijón</td>\n",
       "      <td>UD Las Palmas</td>\n",
       "      <td>NaN</td>\n",
       "      <td>NaN</td>\n",
       "      <td>NaN</td>\n",
       "      <td>None</td>\n",
       "    </tr>\n",
       "    <tr>\n",
       "      <th>48778</th>\n",
       "      <td>2021-2022</td>\n",
       "      <td>2</td>\n",
       "      <td>42</td>\n",
       "      <td>5/29/22</td>\n",
       "      <td>NaN</td>\n",
       "      <td>CD Tenerife</td>\n",
       "      <td>FC Cartagena</td>\n",
       "      <td>NaN</td>\n",
       "      <td>NaN</td>\n",
       "      <td>NaN</td>\n",
       "      <td>None</td>\n",
       "    </tr>\n",
       "    <tr>\n",
       "      <th>48779</th>\n",
       "      <td>2021-2022</td>\n",
       "      <td>2</td>\n",
       "      <td>42</td>\n",
       "      <td>5/29/22</td>\n",
       "      <td>NaN</td>\n",
       "      <td>Real Valladolid</td>\n",
       "      <td>SD Huesca</td>\n",
       "      <td>NaN</td>\n",
       "      <td>NaN</td>\n",
       "      <td>NaN</td>\n",
       "      <td>None</td>\n",
       "    </tr>\n",
       "  </tbody>\n",
       "</table>\n",
       "<p>48780 rows × 11 columns</p>\n",
       "</div>"
      ],
      "text/plain": [
       "          season  division  matchday     date time        home_team  \\\n",
       "0      1928-1929         1         1  2/10/29  NaN      Arenas Club   \n",
       "1      1928-1929         1         1  2/10/29  NaN         Espanyol   \n",
       "2      1928-1929         1         1  2/10/29  NaN      Real Madrid   \n",
       "3      1928-1929         1         1  2/10/29  NaN         Donostia   \n",
       "4      1928-1929         1         1  2/12/29  NaN           Racing   \n",
       "...          ...       ...       ...      ...  ...              ...   \n",
       "48775  2021-2022         2        42  5/29/22  NaN      Real Oviedo   \n",
       "48776  2021-2022         2        42  5/29/22  NaN  Real Sociedad B   \n",
       "48777  2021-2022         2        42  5/29/22  NaN   Sporting Gijón   \n",
       "48778  2021-2022         2        42  5/29/22  NaN      CD Tenerife   \n",
       "48779  2021-2022         2        42  5/29/22  NaN  Real Valladolid   \n",
       "\n",
       "             away_team score local_score away_score results  \n",
       "0      Athletic Madrid   2:3           2          3       2  \n",
       "1           Real Unión   3:2           3          2       1  \n",
       "2            Catalunya   5:0           5          0       1  \n",
       "3             Athletic   1:1           1          1       X  \n",
       "4            Barcelona   0:2           0          2       2  \n",
       "...                ...   ...         ...        ...     ...  \n",
       "48775         UD Ibiza   NaN         NaN        NaN    None  \n",
       "48776    Real Zaragoza   NaN         NaN        NaN    None  \n",
       "48777    UD Las Palmas   NaN         NaN        NaN    None  \n",
       "48778     FC Cartagena   NaN         NaN        NaN    None  \n",
       "48779        SD Huesca   NaN         NaN        NaN    None  \n",
       "\n",
       "[48780 rows x 11 columns]"
      ]
     },
     "execution_count": 3,
     "metadata": {},
     "output_type": "execute_result"
    }
   ],
   "source": [
    "df[\"local_score\"] = df[\"score\"].str.split(\":\").str[0]\n",
    "df[\"away_score\"] = df[\"score\"].str.split(\":\").str[1]\n",
    "df['results'] = df.apply(lambda row: 1 if row['local_score'] > row['away_score'] else (2 if row['away_score'] > row['local_score'] else ('X' if row['local_score'] == row['away_score'] else None)), axis=1)\n",
    "df"
   ]
  },
  {
   "cell_type": "code",
   "execution_count": 4,
   "metadata": {},
   "outputs": [
    {
     "data": {
      "text/plain": [
       "results\n",
       "1    25317\n",
       "X    12280\n",
       "2    10403\n",
       "Name: count, dtype: int64"
      ]
     },
     "execution_count": 4,
     "metadata": {},
     "output_type": "execute_result"
    }
   ],
   "source": [
    "result_counts = df['results'].value_counts()\n",
    "result_counts"
   ]
  },
  {
   "cell_type": "markdown",
   "metadata": {},
   "source": [
    "We can see that the amount of times the local team wins is way higher than the ties or defeats. So we can cocnlude that it is true that the local team is more likely to win. Now we can plot the corresponding data."
   ]
  },
  {
   "cell_type": "code",
   "execution_count": 5,
   "metadata": {},
   "outputs": [
    {
     "data": {
      "text/plain": [
       "<Axes: ylabel='Match results'>"
      ]
     },
     "execution_count": 5,
     "metadata": {},
     "output_type": "execute_result"
    },
    {
     "data": {
      "image/png": "[encoded data removed]",
      "text/plain": [
       "<Figure size 640x480 with 1 Axes>"
      ]
     },
     "metadata": {},
     "output_type": "display_data"
    }
   ],
   "source": [
    "result_counts.plot(kind='pie', label ='Match results', autopct = '%1.1f%%')"
   ]
  },
  {
   "cell_type": "markdown",
   "metadata": {},
   "source": [
    "As the results indicate, the local team wins more than half of the matches. Also, it is slightly more likely for the result to be a tie rather than a defeat of the local team."
   ]
  },
  {
   "cell_type": "markdown",
   "metadata": {},
   "source": [
    "# Q2. What are the top ten scoring teams of all time? What are the ten teams that concede the most? What have been the biggest wins?"
   ]
  },
  {
   "cell_type": "markdown",
   "metadata": {},
   "source": [
    "We can use the columns created in the previous exercise for this one too. First, we will sum all the scored goals as a local for each team. We will do the same for away goals and sum them up."
   ]
  },
  {
   "cell_type": "code",
   "execution_count": 10,
   "metadata": {},
   "outputs": [
    {
     "data": {
      "text/plain": [
       "Text(0.5, 1.0, 'Top 10 goal scorers')"
      ]
     },
     "execution_count": 10,
     "metadata": {},
     "output_type": "execute_result"
    },
    {
     "data": {
      "image/png": "[encoded data removed]",
      "text/plain": [
       "<Figure size 640x480 with 1 Axes>"
      ]
     },
     "metadata": {},
     "output_type": "display_data"
    }
   ],
   "source": [
    "\n",
    "df = df.dropna(subset=['local_score'])\n",
    "df = df.dropna(subset=['away_score'])\n",
    "df['local_score'] = df['local_score'].astype(int)\n",
    "df['away_score'] = df['away_score'].astype(int)\n",
    "q2 = df\n",
    "q2 = q2[q2['division'] == 1]\n",
    "total_goals = q2.groupby('home_team')['local_score'].sum().reset_index()\n",
    "total_goals = total_goals.rename(columns={'home_team':'team', 'local_score':'goals'})\n",
    "away_goals = q2.groupby('away_team')['away_score'].sum().reset_index()\n",
    "total_goals['goals'] += away_goals['away_score']\n",
    "top10goals = total_goals.sort_values(by='goals', ascending=False).reset_index(drop=True).head(10)\n",
    "top10goals.plot(x='team', y='goals', kind='bar', legend=False)\n",
    "plt.xlabel('team')\n",
    "plt.ylabel('goals')\n",
    "plt.title('Top 10 goal scorers')"
   ]
  },
  {
   "cell_type": "markdown",
   "metadata": {},
   "source": [
    "As expected, Barcelona and Real Madrid are the teams that have scored the most goals. Followed by Athletic which has never descended into second division. Now we repeat the process for the conceaded goals."
   ]
  },
  {
   "cell_type": "code",
   "execution_count": 7,
   "metadata": {},
   "outputs": [
    {
     "data": {
      "text/plain": [
       "Text(0.5, 1.0, 'Top 10 goal conceders')"
      ]
     },
     "execution_count": 7,
     "metadata": {},
     "output_type": "execute_result"
    },
    {
     "data": {
      "image/png": "[encoded data removed]",
      "text/plain": [
       "<Figure size 640x480 with 1 Axes>"
      ]
     },
     "metadata": {},
     "output_type": "display_data"
    }
   ],
   "source": [
    "total_conceded = q2.groupby('home_team')['away_score'].sum().reset_index()\n",
    "total_conceded = total_conceded.rename(columns={'home_team':'team', 'away_score':'conceded goals'})\n",
    "away_conceded = q2.groupby('away_team')['local_score'].sum().reset_index()\n",
    "total_conceded['conceded goals'] += away_conceded['local_score']\n",
    "top10conceded = total_conceded.sort_values(by='conceded goals', ascending=False).reset_index(drop=True).head(10)\n",
    "top10conceded.plot(x='team', y='conceded goals', kind='bar', legend=False)\n",
    "plt.xlabel('team')\n",
    "plt.ylabel('goals')\n",
    "plt.title('Top 10 goal conceders')"
   ]
  },
  {
   "cell_type": "markdown",
   "metadata": {},
   "source": [
    "The team that has conceded the most goals is Espanyol, this makes sense because it is a team that has spent many seasons in first division but is not one of the stronger teams.\n",
    "\n",
    "In order to find out the biggest win, we will create another column called goal difference, which will be the difference between the local team goals and the away team goals. Another column with the absolute value is also necessary because the value would be negative if the match is a victory for the away team."
   ]
  },
  {
   "cell_type": "code",
   "execution_count": 11,
   "metadata": {},
   "outputs": [
    {
     "data": {
      "text/html": [
       "<div>\n",
       "<style scoped>\n",
       "    .dataframe tbody tr th:only-of-type {\n",
       "        vertical-align: middle;\n",
       "    }\n",
       "\n",
       "    .dataframe tbody tr th {\n",
       "        vertical-align: top;\n",
       "    }\n",
       "\n",
       "    .dataframe thead th {\n",
       "        text-align: right;\n",
       "    }\n",
       "</style>\n",
       "<table border=\"1\" class=\"dataframe\">\n",
       "  <thead>\n",
       "    <tr style=\"text-align: right;\">\n",
       "      <th></th>\n",
       "      <th>season</th>\n",
       "      <th>division</th>\n",
       "      <th>matchday</th>\n",
       "      <th>date</th>\n",
       "      <th>time</th>\n",
       "      <th>home_team</th>\n",
       "      <th>away_team</th>\n",
       "      <th>score</th>\n",
       "      <th>local_score</th>\n",
       "      <th>away_score</th>\n",
       "      <th>results</th>\n",
       "      <th>goal_diff</th>\n",
       "      <th>abs_goal_diff</th>\n",
       "    </tr>\n",
       "  </thead>\n",
       "  <tbody>\n",
       "    <tr>\n",
       "      <th>0</th>\n",
       "      <td>1940-1941</td>\n",
       "      <td>2</td>\n",
       "      <td>15</td>\n",
       "      <td>1/8/41</td>\n",
       "      <td>NaN</td>\n",
       "      <td>Real Sociedad</td>\n",
       "      <td>Real Valladolid</td>\n",
       "      <td>14:2</td>\n",
       "      <td>14</td>\n",
       "      <td>2</td>\n",
       "      <td>2</td>\n",
       "      <td>12</td>\n",
       "      <td>12</td>\n",
       "    </tr>\n",
       "    <tr>\n",
       "      <th>1</th>\n",
       "      <td>1956-1957</td>\n",
       "      <td>2</td>\n",
       "      <td>18</td>\n",
       "      <td>1/13/57</td>\n",
       "      <td>NaN</td>\n",
       "      <td>Real Gijón</td>\n",
       "      <td>Lérida</td>\n",
       "      <td>11:0</td>\n",
       "      <td>11</td>\n",
       "      <td>0</td>\n",
       "      <td>1</td>\n",
       "      <td>11</td>\n",
       "      <td>11</td>\n",
       "    </tr>\n",
       "    <tr>\n",
       "      <th>2</th>\n",
       "      <td>1930-1931</td>\n",
       "      <td>1</td>\n",
       "      <td>10</td>\n",
       "      <td>2/8/31</td>\n",
       "      <td>NaN</td>\n",
       "      <td>Athletic</td>\n",
       "      <td>Barcelona</td>\n",
       "      <td>12:1</td>\n",
       "      <td>12</td>\n",
       "      <td>1</td>\n",
       "      <td>1</td>\n",
       "      <td>11</td>\n",
       "      <td>11</td>\n",
       "    </tr>\n",
       "    <tr>\n",
       "      <th>3</th>\n",
       "      <td>1941-1942</td>\n",
       "      <td>1</td>\n",
       "      <td>1</td>\n",
       "      <td>9/28/41</td>\n",
       "      <td>NaN</td>\n",
       "      <td>Sevilla FC</td>\n",
       "      <td>Real Oviedo</td>\n",
       "      <td>10:0</td>\n",
       "      <td>10</td>\n",
       "      <td>0</td>\n",
       "      <td>1</td>\n",
       "      <td>10</td>\n",
       "      <td>10</td>\n",
       "    </tr>\n",
       "    <tr>\n",
       "      <th>4</th>\n",
       "      <td>1950-1951</td>\n",
       "      <td>1</td>\n",
       "      <td>11</td>\n",
       "      <td>11/19/50</td>\n",
       "      <td>NaN</td>\n",
       "      <td>Athletic</td>\n",
       "      <td>Lérida</td>\n",
       "      <td>10:0</td>\n",
       "      <td>10</td>\n",
       "      <td>0</td>\n",
       "      <td>1</td>\n",
       "      <td>10</td>\n",
       "      <td>10</td>\n",
       "    </tr>\n",
       "    <tr>\n",
       "      <th>5</th>\n",
       "      <td>1940-1941</td>\n",
       "      <td>1</td>\n",
       "      <td>1</td>\n",
       "      <td>9/29/40</td>\n",
       "      <td>NaN</td>\n",
       "      <td>Sevilla FC</td>\n",
       "      <td>Barcelona</td>\n",
       "      <td>11:1</td>\n",
       "      <td>11</td>\n",
       "      <td>1</td>\n",
       "      <td>1</td>\n",
       "      <td>10</td>\n",
       "      <td>10</td>\n",
       "    </tr>\n",
       "    <tr>\n",
       "      <th>6</th>\n",
       "      <td>1962-1963</td>\n",
       "      <td>2</td>\n",
       "      <td>9</td>\n",
       "      <td>11/11/62</td>\n",
       "      <td>NaN</td>\n",
       "      <td>Real Sociedad</td>\n",
       "      <td>CE Sabadell</td>\n",
       "      <td>11:1</td>\n",
       "      <td>11</td>\n",
       "      <td>1</td>\n",
       "      <td>1</td>\n",
       "      <td>10</td>\n",
       "      <td>10</td>\n",
       "    </tr>\n",
       "    <tr>\n",
       "      <th>7</th>\n",
       "      <td>1949-1950</td>\n",
       "      <td>2</td>\n",
       "      <td>1</td>\n",
       "      <td>9/4/49</td>\n",
       "      <td>NaN</td>\n",
       "      <td>CE Sabadell</td>\n",
       "      <td>SD Erandio Club</td>\n",
       "      <td>11:1</td>\n",
       "      <td>11</td>\n",
       "      <td>1</td>\n",
       "      <td>1</td>\n",
       "      <td>10</td>\n",
       "      <td>10</td>\n",
       "    </tr>\n",
       "    <tr>\n",
       "      <th>8</th>\n",
       "      <td>1941-1942</td>\n",
       "      <td>1</td>\n",
       "      <td>15</td>\n",
       "      <td>1/11/42</td>\n",
       "      <td>NaN</td>\n",
       "      <td>Athletic</td>\n",
       "      <td>Celta de Vigo</td>\n",
       "      <td>10:0</td>\n",
       "      <td>10</td>\n",
       "      <td>0</td>\n",
       "      <td>1</td>\n",
       "      <td>10</td>\n",
       "      <td>10</td>\n",
       "    </tr>\n",
       "    <tr>\n",
       "      <th>9</th>\n",
       "      <td>1957-1958</td>\n",
       "      <td>2</td>\n",
       "      <td>32</td>\n",
       "      <td>5/18/58</td>\n",
       "      <td>NaN</td>\n",
       "      <td>Tarrasa</td>\n",
       "      <td>La Felguera</td>\n",
       "      <td>10:1</td>\n",
       "      <td>10</td>\n",
       "      <td>1</td>\n",
       "      <td>1</td>\n",
       "      <td>9</td>\n",
       "      <td>9</td>\n",
       "    </tr>\n",
       "  </tbody>\n",
       "</table>\n",
       "</div>"
      ],
      "text/plain": [
       "      season  division  matchday      date time      home_team  \\\n",
       "0  1940-1941         2        15    1/8/41  NaN  Real Sociedad   \n",
       "1  1956-1957         2        18   1/13/57  NaN     Real Gijón   \n",
       "2  1930-1931         1        10    2/8/31  NaN       Athletic   \n",
       "3  1941-1942         1         1   9/28/41  NaN     Sevilla FC   \n",
       "4  1950-1951         1        11  11/19/50  NaN       Athletic   \n",
       "5  1940-1941         1         1   9/29/40  NaN     Sevilla FC   \n",
       "6  1962-1963         2         9  11/11/62  NaN  Real Sociedad   \n",
       "7  1949-1950         2         1    9/4/49  NaN   CE Sabadell    \n",
       "8  1941-1942         1        15   1/11/42  NaN       Athletic   \n",
       "9  1957-1958         2        32   5/18/58  NaN        Tarrasa   \n",
       "\n",
       "         away_team score  local_score  away_score results  goal_diff  \\\n",
       "0  Real Valladolid  14:2           14           2       2         12   \n",
       "1           Lérida  11:0           11           0       1         11   \n",
       "2        Barcelona  12:1           12           1       1         11   \n",
       "3      Real Oviedo  10:0           10           0       1         10   \n",
       "4           Lérida  10:0           10           0       1         10   \n",
       "5        Barcelona  11:1           11           1       1         10   \n",
       "6     CE Sabadell   11:1           11           1       1         10   \n",
       "7  SD Erandio Club  11:1           11           1       1         10   \n",
       "8    Celta de Vigo  10:0           10           0       1         10   \n",
       "9      La Felguera  10:1           10           1       1          9   \n",
       "\n",
       "   abs_goal_diff  \n",
       "0             12  \n",
       "1             11  \n",
       "2             11  \n",
       "3             10  \n",
       "4             10  \n",
       "5             10  \n",
       "6             10  \n",
       "7             10  \n",
       "8             10  \n",
       "9              9  "
      ]
     },
     "execution_count": 11,
     "metadata": {},
     "output_type": "execute_result"
    }
   ],
   "source": [
    "df['goal_diff'] = df['local_score'] - df['away_score']\n",
    "df['abs_goal_diff'] = np.abs(df['goal_diff'])\n",
    "df.sort_values(by = 'abs_goal_diff', ascending=False).reset_index(drop=True).head(10)"
   ]
  },
  {
   "cell_type": "markdown",
   "metadata": {},
   "source": [
    "These are the 10 biggest victories in the history of the first division of LaLiga."
   ]
  },
  {
   "cell_type": "markdown",
   "metadata": {},
   "source": [
    "# Q3. How have LaLiga's television rights changed game schedules in the last years?"
   ]
  },
  {
   "cell_type": "markdown",
   "metadata": {},
   "source": [
    "To answer this, first we will create a new set that only contains the games that have a valid value for the time. Then, the data will be divided into two subsests for the 2000-2001 season and the 2020-2021 season."
   ]
  },
  {
   "cell_type": "code",
   "execution_count": 43,
   "metadata": {},
   "outputs": [
    {
     "name": "stderr",
     "output_type": "stream",
     "text": [
      "C:\\Users\\raulh\\AppData\\Local\\Temp\\ipykernel_24368\\4162231926.py:5: UserWarning: Could not infer format, so each element will be parsed individually, falling back to `dateutil`. To ensure parsing is consistent and as-expected, please specify a format.\n",
      "  q3_2000['date'] = pd.to_datetime(q3_2000['date'])\n",
      "C:\\Users\\raulh\\AppData\\Local\\Temp\\ipykernel_24368\\4162231926.py:5: SettingWithCopyWarning: \n",
      "A value is trying to be set on a copy of a slice from a DataFrame.\n",
      "Try using .loc[row_indexer,col_indexer] = value instead\n",
      "\n",
      "See the caveats in the documentation: https://pandas.pydata.org/pandas-docs/stable/user_guide/indexing.html#returning-a-view-versus-a-copy\n",
      "  q3_2000['date'] = pd.to_datetime(q3_2000['date'])\n",
      "C:\\Users\\raulh\\AppData\\Local\\Temp\\ipykernel_24368\\4162231926.py:6: SettingWithCopyWarning: \n",
      "A value is trying to be set on a copy of a slice from a DataFrame.\n",
      "Try using .loc[row_indexer,col_indexer] = value instead\n",
      "\n",
      "See the caveats in the documentation: https://pandas.pydata.org/pandas-docs/stable/user_guide/indexing.html#returning-a-view-versus-a-copy\n",
      "  q3_2000['day_of_week'] = q3_2000['date'].dt.day_name()\n"
     ]
    },
    {
     "data": {
      "image/png": "[encoded data removed]",
      "text/plain": [
       "<Figure size 640x480 with 1 Axes>"
      ]
     },
     "metadata": {},
     "output_type": "display_data"
    },
    {
     "name": "stderr",
     "output_type": "stream",
     "text": [
      "C:\\Users\\raulh\\AppData\\Local\\Temp\\ipykernel_24368\\4162231926.py:16: UserWarning: Could not infer format, so each element will be parsed individually, falling back to `dateutil`. To ensure parsing is consistent and as-expected, please specify a format.\n",
      "  q3_2020['date'] = pd.to_datetime(q3_2020['date'])\n",
      "C:\\Users\\raulh\\AppData\\Local\\Temp\\ipykernel_24368\\4162231926.py:16: SettingWithCopyWarning: \n",
      "A value is trying to be set on a copy of a slice from a DataFrame.\n",
      "Try using .loc[row_indexer,col_indexer] = value instead\n",
      "\n",
      "See the caveats in the documentation: https://pandas.pydata.org/pandas-docs/stable/user_guide/indexing.html#returning-a-view-versus-a-copy\n",
      "  q3_2020['date'] = pd.to_datetime(q3_2020['date'])\n",
      "C:\\Users\\raulh\\AppData\\Local\\Temp\\ipykernel_24368\\4162231926.py:17: SettingWithCopyWarning: \n",
      "A value is trying to be set on a copy of a slice from a DataFrame.\n",
      "Try using .loc[row_indexer,col_indexer] = value instead\n",
      "\n",
      "See the caveats in the documentation: https://pandas.pydata.org/pandas-docs/stable/user_guide/indexing.html#returning-a-view-versus-a-copy\n",
      "  q3_2020['day_of_week'] = q3_2020['date'].dt.day_name()\n"
     ]
    },
    {
     "data": {
      "image/png": "[encoded data removed]",
      "text/plain": [
       "<Figure size 640x480 with 1 Axes>"
      ]
     },
     "metadata": {},
     "output_type": "display_data"
    }
   ],
   "source": [
    "q3 = df\n",
    "q3 = q3.dropna(subset=['time'])\n",
    "q3 = q3[q3['division'] == 1]\n",
    "q3_2000 = q3[q3['season'] == '2000-2001']\n",
    "q3_2000['date'] = pd.to_datetime(q3_2000['date'])\n",
    "q3_2000['day_of_week'] = q3_2000['date'].dt.day_name()\n",
    "day_of_week_2000 = q3_2000['day_of_week'].value_counts()\n",
    "days_of_week_order = ['Monday', 'Tuesday', 'Wednesday', 'Thursday', 'Friday', 'Saturday', 'Sunday']\n",
    "day_of_week_2000 = day_of_week_2000.reindex(days_of_week_order, fill_value=0)\n",
    "day_of_week_2000.plot(kind='bar', legend=False)\n",
    "plt.xlabel('Day')\n",
    "plt.ylabel('Count')\n",
    "plt.title('Season 2000-2001')\n",
    "plt.show()\n",
    "q3_2020 = q3[q3['season'] == '2020-2021']\n",
    "q3_2020['date'] = pd.to_datetime(q3_2020['date'])\n",
    "q3_2020['day_of_week'] = q3_2020['date'].dt.day_name()\n",
    "day_of_week_2020 = q3_2020['day_of_week'].value_counts()\n",
    "day_of_week_2020 = day_of_week_2020.reindex(days_of_week_order, fill_value=0)\n",
    "day_of_week_2020.plot(kind='bar', legend=False)\n",
    "plt.xlabel('Day')\n",
    "plt.ylabel('Count')\n",
    "plt.title('Season 2020-2021')\n",
    "plt.show()"
   ]
  },
  {
   "cell_type": "markdown",
   "metadata": {},
   "source": [
    "We can observe that games used to only be played on the weekends. There used to be no games played from Monday to Friday. However, nowadays the games are still mostly played on the weekends but is possible to see more games played on other days of the week. Now we will repeat the same but with matchtime."
   ]
  },
  {
   "cell_type": "code",
   "execution_count": 44,
   "metadata": {},
   "outputs": [
    {
     "name": "stderr",
     "output_type": "stream",
     "text": [
      "C:\\Users\\raulh\\AppData\\Local\\Temp\\ipykernel_24368\\3893681851.py:1: UserWarning: Could not infer format, so each element will be parsed individually, falling back to `dateutil`. To ensure parsing is consistent and as-expected, please specify a format.\n",
      "  q3_2000['time'] = pd.to_datetime(q3_2000['time']).dt.strftime('%H:%M')\n",
      "C:\\Users\\raulh\\AppData\\Local\\Temp\\ipykernel_24368\\3893681851.py:1: SettingWithCopyWarning: \n",
      "A value is trying to be set on a copy of a slice from a DataFrame.\n",
      "Try using .loc[row_indexer,col_indexer] = value instead\n",
      "\n",
      "See the caveats in the documentation: https://pandas.pydata.org/pandas-docs/stable/user_guide/indexing.html#returning-a-view-versus-a-copy\n",
      "  q3_2000['time'] = pd.to_datetime(q3_2000['time']).dt.strftime('%H:%M')\n"
     ]
    },
    {
     "data": {
      "image/png": "[encoded data removed]",
      "text/plain": [
       "<Figure size 640x480 with 1 Axes>"
      ]
     },
     "metadata": {},
     "output_type": "display_data"
    },
    {
     "name": "stderr",
     "output_type": "stream",
     "text": [
      "C:\\Users\\raulh\\AppData\\Local\\Temp\\ipykernel_24368\\3893681851.py:9: UserWarning: Could not infer format, so each element will be parsed individually, falling back to `dateutil`. To ensure parsing is consistent and as-expected, please specify a format.\n",
      "  q3_2020['time'] = pd.to_datetime(q3_2020['time']).dt.strftime('%H:%M')\n",
      "C:\\Users\\raulh\\AppData\\Local\\Temp\\ipykernel_24368\\3893681851.py:9: SettingWithCopyWarning: \n",
      "A value is trying to be set on a copy of a slice from a DataFrame.\n",
      "Try using .loc[row_indexer,col_indexer] = value instead\n",
      "\n",
      "See the caveats in the documentation: https://pandas.pydata.org/pandas-docs/stable/user_guide/indexing.html#returning-a-view-versus-a-copy\n",
      "  q3_2020['time'] = pd.to_datetime(q3_2020['time']).dt.strftime('%H:%M')\n"
     ]
    },
    {
     "data": {
      "image/png": "[encoded data removed]",
      "text/plain": [
       "<Figure size 640x480 with 1 Axes>"
      ]
     },
     "metadata": {},
     "output_type": "display_data"
    }
   ],
   "source": [
    "q3_2000['time'] = pd.to_datetime(q3_2000['time']).dt.strftime('%H:%M')\n",
    "matchtime_2000 = q3_2000['time'].value_counts()\n",
    "matchtime_2000.sort_index(inplace=True)\n",
    "matchtime_2000.plot(kind='bar', legend=False)\n",
    "plt.xlabel('Time')\n",
    "plt.ylabel('Count')\n",
    "plt.title('Matchtime Season 2000-2001')\n",
    "plt.show()\n",
    "q3_2020['time'] = pd.to_datetime(q3_2020['time']).dt.strftime('%H:%M')\n",
    "matchtime_2020 = q3_2020['time'].value_counts()\n",
    "matchtime_2020.sort_index(inplace=True)\n",
    "matchtime_2020.plot(kind='bar', legend=False)\n",
    "plt.xlabel('Time')\n",
    "plt.ylabel('Count')\n",
    "plt.title('Matchtime Season 2020-2021')\n",
    "plt.show()"
   ]
  },
  {
   "cell_type": "markdown",
   "metadata": {},
   "source": [
    "The main matchtime used to be 17:00, nowadays there is barely any game at that time. In the 2020-2021 season,there have been games played in more different hours than in the 2000-2001 season. Also, now there are more games played earlier and later than the most common time in the year 2000-2001."
   ]
  },
  {
   "cell_type": "markdown",
   "metadata": {},
   "source": [
    "# Q4."
   ]
  },
  {
   "cell_type": "markdown",
   "metadata": {},
   "source": [
    "# Q5."
   ]
  },
  {
   "cell_type": "markdown",
   "metadata": {},
   "source": [
    "# Q6."
   ]
  },
  {
   "cell_type": "markdown",
   "metadata": {},
   "source": [
    "# Q7."
   ]
  },
  {
   "cell_type": "markdown",
   "metadata": {},
   "source": [
    "First, we have to group the teams by division and season."
   ]
  },
  {
   "cell_type": "code",
   "execution_count": 110,
   "metadata": {},
   "outputs": [],
   "source": [
    "df = df[df['season'] != '2021-2022']\n",
    "season_standings = df.groupby(['season', 'division'])['home_team'].unique().reset_index()\n",
    "season_standings = season_standings.explode('home_team').reset_index(drop=True)\n",
    "season_standings.columns = ['Season', 'Division', 'Team']"
   ]
  },
  {
   "cell_type": "code",
   "execution_count": null,
   "metadata": {},
   "outputs": [],
   "source": [
    "#gf"
   ]
  },
  {
   "cell_type": "code",
   "execution_count": null,
   "metadata": {},
   "outputs": [],
   "source": [
    "#ga"
   ]
  },
  {
   "cell_type": "code",
   "execution_count": null,
   "metadata": {},
   "outputs": [],
   "source": [
    "#gd"
   ]
  },
  {
   "cell_type": "code",
   "execution_count": null,
   "metadata": {},
   "outputs": [],
   "source": [
    "win_condition = lambda row: len(df[(df['season'] == row['Season']) & (df['home_team'] == row['Team']) & (df['results'] == 1)]) + len(df[(df['season'] == row['Season']) & (df['away_team'] == row['Team']) & (df['results'] == 2)])\n",
    "season_standings['W'] = season_standings.apply(win_condition, axis = 1)"
   ]
  },
  {
   "cell_type": "code",
   "execution_count": null,
   "metadata": {},
   "outputs": [],
   "source": [
    "lose_condition = lambda row: len(df[(df['season'] == row['Season']) & (df['home_team'] == row['Team']) & (df['results'] == 2)]) + len(df[(df['season'] == row['Season']) & (df['away_team'] == row['Team']) & (df['results'] == 1)])\n",
    "season_standings['L'] = season_standings.apply(lose_condition, axis = 1)"
   ]
  },
  {
   "cell_type": "code",
   "execution_count": null,
   "metadata": {},
   "outputs": [],
   "source": [
    "tie_condition = lambda row: len(df[(df['season'] == row['Season']) & ((df['home_team'] == row['Team']) | (df['away_team'] == row['Team'])) & (df['results'] == 'X')])\n",
    "season_standings['T'] = season_standings.apply(tie_condition, axis = 1)"
   ]
  },
  {
   "cell_type": "code",
   "execution_count": null,
   "metadata": {},
   "outputs": [],
   "source": [
    "#pts"
   ]
  },
  {
   "cell_type": "markdown",
   "metadata": {},
   "source": [
    "# Q8."
   ]
  },
  {
   "cell_type": "markdown",
   "metadata": {},
   "source": [
    "# Q9."
   ]
  },
  {
   "cell_type": "markdown",
   "metadata": {},
   "source": [
    "# Q10."
   ]
  }
 ],
 "metadata": {
  "kernelspec": {
   "display_name": "venv",
   "language": "python",
   "name": "python3"
  },
  "language_info": {
   "codemirror_mode": {
    "name": "ipython",
    "version": 3
   },
   "file_extension": ".py",
   "mimetype": "text/x-python",
   "name": "python",
   "nbconvert_exporter": "python",
   "pygments_lexer": "ipython3",
   "version": "3.10.1"
  }
 },
 "nbformat": 4,
 "nbformat_minor": 2
}
