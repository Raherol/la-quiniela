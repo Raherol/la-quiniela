{
 "cells": [
  {
   "cell_type": "markdown",
   "metadata": {},
   "source": [
    "# Model development and deployment"
   ]
  },
  {
   "cell_type": "markdown",
   "metadata": {},
   "source": [
    "The approach to the creation of the model is to first create a data file with all the relevant information. This way, the information will be available at any time and it will not have to be calculated again. It will still be possible to train the model over a desired amount of seasons. The first step, is to create a dataframe and add the relevant information into it."
   ]
  },
  {
   "cell_type": "code",
   "execution_count": 2,
   "metadata": {},
   "outputs": [],
   "source": [
    "import pandas as pd\n",
    "import numpy as np\n",
    "import matplotlib.pyplot as plt\n",
    "\n",
    "pd.set_option(\"display.max_columns\", None)\n",
    "\n",
    "train_df = pd.read_csv('../laliga.csv')\n",
    "\n",
    "train_df[\"local_score\"] = train_df[\"score\"].str.split(\":\").str[0]\n",
    "train_df[\"away_score\"] = train_df[\"score\"].str.split(\":\").str[1]\n",
    "train_df['results'] = train_df.apply(lambda row: 1 if row['local_score'] > row['away_score'] else (2 if row['away_score'] > row['local_score'] else ('X' if row['local_score'] == row['away_score'] else None)), axis=1)\n",
    "train_df['results_encoded'] = train_df.apply(lambda row: 1 if row['results'] == 1 else (3 if row['results'] == 2 else (2 if row['results'] == 'X' else None)), axis=1)\n",
    "\n",
    "train_df = train_df.dropna(subset=['local_score'])\n",
    "train_df = train_df.dropna(subset=['away_score'])\n",
    "train_df['local_score'] = train_df['local_score'].astype(int)\n",
    "train_df['away_score'] = train_df['away_score'].astype(int)\n",
    "train_df['goal_diff'] = train_df['local_score'] - train_df['away_score']\n",
    "train_df['abs_goal_diff'] = np.abs(train_df['goal_diff'])"
   ]
  },
  {
   "cell_type": "markdown",
   "metadata": {},
   "source": [
    "The most important addition to the code is the creation of an Elo socre system. This system aims to quantify the strength of a team at a given point in time. It works like in chess, if a team wins or draws against a stronger team, its Elo score will increase, if it loses or draws against a weaker team it will decrease."
   ]
  },
  {
   "cell_type": "code",
   "execution_count": 3,
   "metadata": {},
   "outputs": [],
   "source": [
    "Elo_table = pd.DataFrame()\n",
    "Elo_table['Team'] = train_df['home_team'].unique()\n",
    "Elo_table['ELO'] = 1000\n",
    "\n",
    "train_df['Local_Elo'] = 0\n",
    "train_df['Away_Elo'] = 0\n",
    "train_df['Elo_diff'] = 0"
   ]
  },
  {
   "cell_type": "markdown",
   "metadata": {},
   "source": [
    "Also, we will provide a unique id to every team."
   ]
  },
  {
   "cell_type": "code",
   "execution_count": 4,
   "metadata": {},
   "outputs": [],
   "source": [
    "team_id = pd.DataFrame()\n",
    "team_id['Team'] = train_df['home_team'].unique()\n",
    "team_id['Id'] = team_id.index"
   ]
  },
  {
   "cell_type": "markdown",
   "metadata": {},
   "source": [
    "Now we will define a funciton that calculates the Elo score for every team after every match and save it. This is done by having another table where the current Elo of a team will be stored, and accessing it when necessary. This Elo score file will end up with the current score for every team. It will be used to provide an Elo for the teams of the prediction."
   ]
  },
  {
   "cell_type": "markdown",
   "metadata": {},
   "source": [
    "In order to determine the Elo score, it is first necessary to calculate the expected result given one's score and an opponents score. It works in the following way:\n",
    "\n",
    "$E_A = \\frac{1}{1+10^{(R_B-R_A)/400}}$\n",
    "\n",
    "Where E is the expected result for team A, R is the rating of the teams, being B the opponent team. You can see that if the rating is the same the expected result is $1/2$, which could be interpreted as having the same chance to win or a tie. After the result is known ($1$ for victory, $1/2$ for a tie and $0$ for a defeat), the rating of the team is adjused in the following way:\n",
    "\n",
    "$R'_A = R_A + K(S_A-E_A)$\n",
    "\n",
    "Where R' is the new rating and S is the result. K is factor that can be adjusted, in our case we have chosen $K=30$.\n",
    "\n"
   ]
  },
  {
   "cell_type": "code",
   "execution_count": 5,
   "metadata": {},
   "outputs": [],
   "source": [
    "def ELO_score(row):\n",
    "    global Elo_table, team_id\n",
    "    row['Local_Elo'] = local_elo = Elo_table.loc[Elo_table['Team'] == row['home_team'], 'ELO'].values[0]\n",
    "    row['Away_Elo'] = away_elo = Elo_table.loc[Elo_table['Team'] == row['away_team'], 'ELO'].values[0]\n",
    "    row['Elo_diff'] = row['Local_Elo'] - row['Away_Elo']\n",
    "    row['Local_id'] = team_id.loc[team_id['Team'] == row['home_team'], 'Id'].values[0]\n",
    "    row['Away_id'] = team_id.loc[team_id['Team'] == row['away_team'], 'Id'].values[0]\n",
    "\n",
    "    expected_local = 1/(1+10**((away_elo - local_elo)/400))\n",
    "    expected_away = 1/(1+10**((local_elo - away_elo)/400))\n",
    "\n",
    "    if row['results'] == 1:\n",
    "        result_local = 1\n",
    "        result_away = 0\n",
    "    elif row['results'] == 2:\n",
    "        result_local = 0\n",
    "        result_away = 1\n",
    "    else:\n",
    "        result_local = 0.5\n",
    "        result_away = 0.5\n",
    "\n",
    "    K = 30\n",
    "\n",
    "    Elo_table.loc[Elo_table['Team'] == row['home_team'], 'ELO'] = local_elo + K*(result_local - expected_local)/row['division']\n",
    "    Elo_table.loc[Elo_table['Team'] == row['away_team'], 'ELO'] = away_elo + K*(result_away - expected_away)/row['division']\n",
    "    return row"
   ]
  },
  {
   "cell_type": "markdown",
   "metadata": {},
   "source": [
    "Now we can apply the function and check the top Elo score for the current matchday and season, to check if it makes sense. We expect Real Madrid and Barcelona to be at the top."
   ]
  },
  {
   "cell_type": "code",
   "execution_count": null,
   "metadata": {},
   "outputs": [],
   "source": [
    "train_df = train_df.apply(lambda row: ELO_score(row), axis = 1)\n",
    "top_elo = Elo_table.sort_values(by='ELO', ascending=False).head(10).reset_index(drop=True)\n",
    "top_elo"
   ]
  },
  {
   "cell_type": "markdown",
   "metadata": {},
   "source": [
    "After checking everything is right we can save the data so we do not have to calculate it again."
   ]
  },
  {
   "cell_type": "code",
   "execution_count": null,
   "metadata": {},
   "outputs": [],
   "source": [
    "train_df.to_excel('../data/modeldata.xlsx')\n",
    "Elo_table.to_excel('../data/ELOtable.xlsx')"
   ]
  },
  {
   "cell_type": "markdown",
   "metadata": {},
   "source": [
    "Now we can begin building the model. We will use a classfier method rathen than a regression because the final output of the model has to be a class of result, not a value within a range. In particular, we have decided to use Gradient Boosting Classifier. There has been testing with other funcitons in the other Jupyter notebooks."
   ]
  },
  {
   "cell_type": "code",
   "execution_count": 21,
   "metadata": {},
   "outputs": [],
   "source": [
    "from sklearn.model_selection import train_test_split\n",
    "\n",
    "df = pd.read_excel('../data/modeldata.xlsx')\n",
    "\n",
    "features = [\n",
    "    'Local_id',\n",
    "    'Away_id',\n",
    "    'Local_Elo',\n",
    "    'Away_Elo',\n",
    "    'Elo_diff',\n",
    "    'division'\n",
    "]\n",
    "\n",
    "target = ['results_encoded']\n",
    "\n",
    "X, y = df[features], df[target]\n",
    "X_train, X_test, y_train, y_test = train_test_split(X, y, test_size=0.2, random_state=1)"
   ]
  },
  {
   "cell_type": "markdown",
   "metadata": {},
   "source": [
    "After initializing the desired data, we call GradientBoostingClassifier() and build the model."
   ]
  },
  {
   "cell_type": "code",
   "execution_count": 22,
   "metadata": {},
   "outputs": [
    {
     "name": "stderr",
     "output_type": "stream",
     "text": [
      "c:\\Users\\raulh\\OneDrive\\Escritorio\\Màster\\LaLiga\\la-quiniela\\venv\\lib\\site-packages\\sklearn\\ensemble\\_gb.py:424: DataConversionWarning: A column-vector y was passed when a 1d array was expected. Please change the shape of y to (n_samples, ), for example using ravel().\n",
      "  y = column_or_1d(y, warn=True)\n"
     ]
    },
    {
     "data": {
      "text/html": [
       "<div>\n",
       "<style scoped>\n",
       "    .dataframe tbody tr th:only-of-type {\n",
       "        vertical-align: middle;\n",
       "    }\n",
       "\n",
       "    .dataframe tbody tr th {\n",
       "        vertical-align: top;\n",
       "    }\n",
       "\n",
       "    .dataframe thead th {\n",
       "        text-align: right;\n",
       "    }\n",
       "</style>\n",
       "<table border=\"1\" class=\"dataframe\">\n",
       "  <thead>\n",
       "    <tr style=\"text-align: right;\">\n",
       "      <th></th>\n",
       "      <th>Local_id</th>\n",
       "      <th>Away_id</th>\n",
       "      <th>Local_Elo</th>\n",
       "      <th>Away_Elo</th>\n",
       "      <th>Elo_diff</th>\n",
       "      <th>division</th>\n",
       "      <th>y_real</th>\n",
       "      <th>y_pred</th>\n",
       "    </tr>\n",
       "  </thead>\n",
       "  <tbody>\n",
       "    <tr>\n",
       "      <th>23629</th>\n",
       "      <td>2</td>\n",
       "      <td>35</td>\n",
       "      <td>1340.919364</td>\n",
       "      <td>972.786614</td>\n",
       "      <td>368.132750</td>\n",
       "      <td>1</td>\n",
       "      <td>1</td>\n",
       "      <td>1</td>\n",
       "    </tr>\n",
       "    <tr>\n",
       "      <th>43458</th>\n",
       "      <td>136</td>\n",
       "      <td>62</td>\n",
       "      <td>980.052854</td>\n",
       "      <td>1127.172305</td>\n",
       "      <td>-147.119451</td>\n",
       "      <td>2</td>\n",
       "      <td>1</td>\n",
       "      <td>3</td>\n",
       "    </tr>\n",
       "    <tr>\n",
       "      <th>45365</th>\n",
       "      <td>16</td>\n",
       "      <td>29</td>\n",
       "      <td>1022.174317</td>\n",
       "      <td>988.100109</td>\n",
       "      <td>34.074208</td>\n",
       "      <td>2</td>\n",
       "      <td>2</td>\n",
       "      <td>1</td>\n",
       "    </tr>\n",
       "    <tr>\n",
       "      <th>19839</th>\n",
       "      <td>40</td>\n",
       "      <td>18</td>\n",
       "      <td>1032.211075</td>\n",
       "      <td>1090.678719</td>\n",
       "      <td>-58.467644</td>\n",
       "      <td>1</td>\n",
       "      <td>1</td>\n",
       "      <td>1</td>\n",
       "    </tr>\n",
       "    <tr>\n",
       "      <th>10859</th>\n",
       "      <td>25</td>\n",
       "      <td>24</td>\n",
       "      <td>971.836582</td>\n",
       "      <td>1242.855196</td>\n",
       "      <td>-271.018614</td>\n",
       "      <td>1</td>\n",
       "      <td>3</td>\n",
       "      <td>3</td>\n",
       "    </tr>\n",
       "    <tr>\n",
       "      <th>...</th>\n",
       "      <td>...</td>\n",
       "      <td>...</td>\n",
       "      <td>...</td>\n",
       "      <td>...</td>\n",
       "      <td>...</td>\n",
       "      <td>...</td>\n",
       "      <td>...</td>\n",
       "      <td>...</td>\n",
       "    </tr>\n",
       "    <tr>\n",
       "      <th>27942</th>\n",
       "      <td>66</td>\n",
       "      <td>82</td>\n",
       "      <td>964.307932</td>\n",
       "      <td>979.209962</td>\n",
       "      <td>-14.902031</td>\n",
       "      <td>2</td>\n",
       "      <td>1</td>\n",
       "      <td>1</td>\n",
       "    </tr>\n",
       "    <tr>\n",
       "      <th>39450</th>\n",
       "      <td>93</td>\n",
       "      <td>44</td>\n",
       "      <td>967.704004</td>\n",
       "      <td>1062.983687</td>\n",
       "      <td>-95.279683</td>\n",
       "      <td>2</td>\n",
       "      <td>2</td>\n",
       "      <td>2</td>\n",
       "    </tr>\n",
       "    <tr>\n",
       "      <th>35036</th>\n",
       "      <td>25</td>\n",
       "      <td>118</td>\n",
       "      <td>1046.214534</td>\n",
       "      <td>991.114786</td>\n",
       "      <td>55.099748</td>\n",
       "      <td>2</td>\n",
       "      <td>1</td>\n",
       "      <td>1</td>\n",
       "    </tr>\n",
       "    <tr>\n",
       "      <th>42373</th>\n",
       "      <td>15</td>\n",
       "      <td>53</td>\n",
       "      <td>1092.708561</td>\n",
       "      <td>1006.739597</td>\n",
       "      <td>85.968964</td>\n",
       "      <td>2</td>\n",
       "      <td>1</td>\n",
       "      <td>1</td>\n",
       "    </tr>\n",
       "    <tr>\n",
       "      <th>31020</th>\n",
       "      <td>20</td>\n",
       "      <td>43</td>\n",
       "      <td>1066.243619</td>\n",
       "      <td>982.316270</td>\n",
       "      <td>83.927349</td>\n",
       "      <td>2</td>\n",
       "      <td>1</td>\n",
       "      <td>1</td>\n",
       "    </tr>\n",
       "  </tbody>\n",
       "</table>\n",
       "<p>9600 rows × 8 columns</p>\n",
       "</div>"
      ],
      "text/plain": [
       "       Local_id  Away_id    Local_Elo     Away_Elo    Elo_diff  division  \\\n",
       "23629         2       35  1340.919364   972.786614  368.132750         1   \n",
       "43458       136       62   980.052854  1127.172305 -147.119451         2   \n",
       "45365        16       29  1022.174317   988.100109   34.074208         2   \n",
       "19839        40       18  1032.211075  1090.678719  -58.467644         1   \n",
       "10859        25       24   971.836582  1242.855196 -271.018614         1   \n",
       "...         ...      ...          ...          ...         ...       ...   \n",
       "27942        66       82   964.307932   979.209962  -14.902031         2   \n",
       "39450        93       44   967.704004  1062.983687  -95.279683         2   \n",
       "35036        25      118  1046.214534   991.114786   55.099748         2   \n",
       "42373        15       53  1092.708561  1006.739597   85.968964         2   \n",
       "31020        20       43  1066.243619   982.316270   83.927349         2   \n",
       "\n",
       "       y_real  y_pred  \n",
       "23629       1       1  \n",
       "43458       1       3  \n",
       "45365       2       1  \n",
       "19839       1       1  \n",
       "10859       3       3  \n",
       "...       ...     ...  \n",
       "27942       1       1  \n",
       "39450       2       2  \n",
       "35036       1       1  \n",
       "42373       1       1  \n",
       "31020       1       1  \n",
       "\n",
       "[9600 rows x 8 columns]"
      ]
     },
     "execution_count": 22,
     "metadata": {},
     "output_type": "execute_result"
    }
   ],
   "source": [
    "from sklearn.ensemble import GradientBoostingClassifier\n",
    "gbm_model = GradientBoostingClassifier()\n",
    "gbm_model.fit(X_train, y_train)\n",
    "gbm_y_pred = gbm_model.predict(X_test)\n",
    "\n",
    "results_df = X_test.copy()\n",
    "results_df[\"y_real\"] = y_test\n",
    "results_df[\"y_pred\"] = gbm_y_pred.astype(int)\n",
    "results_df"
   ]
  },
  {
   "cell_type": "markdown",
   "metadata": {},
   "source": [
    "Finally we check the performance of the code."
   ]
  },
  {
   "cell_type": "code",
   "execution_count": 23,
   "metadata": {},
   "outputs": [
    {
     "name": "stdout",
     "output_type": "stream",
     "text": [
      "Accuracy: 0.5329\n"
     ]
    }
   ],
   "source": [
    "from sklearn.metrics import accuracy_score\n",
    "accuracy = accuracy_score(y_test, gbm_y_pred)\n",
    "print(f\"Accuracy: {accuracy:.4f}\")"
   ]
  },
  {
   "cell_type": "markdown",
   "metadata": {},
   "source": [
    "We have obtained an accuracy of 53%, which is within the expected range. Previous testing showed that the performance for first divison matches only was higher, up to 57 %. This is a consequence of smaller teams being more unpredictable and the Elo score not working properly for teams that have just arrived to second division and their srength is not properly measured yet."
   ]
  },
  {
   "cell_type": "markdown",
   "metadata": {},
   "source": [
    "We can also analyse which parameter have actually been used by the model."
   ]
  },
  {
   "cell_type": "code",
   "execution_count": 6,
   "metadata": {},
   "outputs": [
    {
     "data": {
      "image/png": "[encoded data removed]",
      "text/plain": [
       "<Figure size 1000x600 with 1 Axes>"
      ]
     },
     "metadata": {},
     "output_type": "display_data"
    }
   ],
   "source": [
    "importances = gbm_model.feature_importances_\n",
    "\n",
    "feature_names = X.columns\n",
    "\n",
    "indices = importances.argsort()[::-1]\n",
    "\n",
    "plt.figure(figsize=(10, 6))\n",
    "plt.bar(range(X.shape[1]), importances[indices], align=\"center\")\n",
    "plt.xticks(range(X.shape[1]), feature_names[indices], rotation=90)\n",
    "plt.xlabel(\"Feature\")\n",
    "plt.ylabel(\"Importance\")\n",
    "plt.title(\"Feature Importances\")\n",
    "plt.show()"
   ]
  },
  {
   "cell_type": "markdown",
   "metadata": {},
   "source": [
    "When we check which variables the model has used the most to determine the outcome we cas see that the Elo difference between the two teams is the most important. We can conclude that using an Elo score is a reasonable way measure the strenght of a team at a given time. However, being the strongest team is not a guarantee to win at football."
   ]
  },
  {
   "cell_type": "markdown",
   "metadata": {},
   "source": [
    "Now we will use this model to make the predictions for season 2021-2022 in matchday 3. We have to prepare the data first."
   ]
  },
  {
   "cell_type": "code",
   "execution_count": 6,
   "metadata": {},
   "outputs": [],
   "source": [
    "import sqlite3\n",
    "\n",
    "conn = sqlite3.connect('../laliga.sqlite') \n",
    "\n",
    "query = \"SELECT * FROM Predictions;\" \n",
    "\n",
    "df_sqlite = pd.read_sql_query(query, conn)\n",
    "selected_columns = ['season', 'division', 'matchday', 'date', 'time', 'home_team', 'away_team','score']\n",
    "df_predictions = df_sqlite.loc[:, selected_columns]\n"
   ]
  },
  {
   "cell_type": "code",
   "execution_count": 7,
   "metadata": {},
   "outputs": [],
   "source": [
    "df_predictions[\"local_score\"] = df_predictions[\"score\"].str.split(\":\").str[0]\n",
    "df_predictions[\"away_score\"] = df_predictions[\"score\"].str.split(\":\").str[1]\n",
    "df_predictions['results'] = df_predictions.apply(lambda row: 1 if row['local_score'] > row['away_score'] else (2 if row['away_score'] > row['local_score'] else ('X' if row['local_score'] == row['away_score'] else None)), axis=1)\n",
    "df_predictions['results_encoded'] = df_predictions.apply(lambda row: 1 if row['results'] == 1 else (3 if row['results'] == 2 else (2 if row['results'] == 'X' else None)), axis=1)\n",
    "\n",
    "\n",
    "df_predictions['local_score'] = df_predictions['local_score'].astype(int)\n",
    "df_predictions['away_score'] = df_predictions['away_score'].astype(int)\n",
    "df_predictions['goal_diff'] = df_predictions['local_score'] - df_predictions['away_score']\n",
    "df_predictions['abs_goal_diff'] = np.abs(train_df['goal_diff'])"
   ]
  },
  {
   "cell_type": "code",
   "execution_count": 8,
   "metadata": {},
   "outputs": [],
   "source": [
    "Elo_table = pd.read_excel('../data/ELOtable.xlsx')\n",
    "\n",
    "df_predictions['Local_Elo'] = 0\n",
    "df_predictions['Away_Elo'] = 0\n",
    "df_predictions['Elo_diff'] = 0\n",
    "df_predictions = df_predictions.apply(lambda row: ELO_score(row), axis = 1)"
   ]
  },
  {
   "cell_type": "markdown",
   "metadata": {},
   "source": [
    "Now that the data is ready we can apply the model over the predictions."
   ]
  },
  {
   "cell_type": "code",
   "execution_count": 12,
   "metadata": {},
   "outputs": [
    {
     "data": {
      "text/html": [
       "<div>\n",
       "<style scoped>\n",
       "    .dataframe tbody tr th:only-of-type {\n",
       "        vertical-align: middle;\n",
       "    }\n",
       "\n",
       "    .dataframe tbody tr th {\n",
       "        vertical-align: top;\n",
       "    }\n",
       "\n",
       "    .dataframe thead th {\n",
       "        text-align: right;\n",
       "    }\n",
       "</style>\n",
       "<table border=\"1\" class=\"dataframe\">\n",
       "  <thead>\n",
       "    <tr style=\"text-align: right;\">\n",
       "      <th></th>\n",
       "      <th>Local_id</th>\n",
       "      <th>Away_id</th>\n",
       "      <th>Local_Elo</th>\n",
       "      <th>Away_Elo</th>\n",
       "      <th>Elo_diff</th>\n",
       "      <th>division</th>\n",
       "      <th>y_real</th>\n",
       "      <th>y_pred</th>\n",
       "    </tr>\n",
       "  </thead>\n",
       "  <tbody>\n",
       "    <tr>\n",
       "      <th>0</th>\n",
       "      <td>40</td>\n",
       "      <td>1</td>\n",
       "      <td>1149.368635</td>\n",
       "      <td>1119.231116</td>\n",
       "      <td>30.137519</td>\n",
       "      <td>1</td>\n",
       "      <td>1</td>\n",
       "      <td>1</td>\n",
       "    </tr>\n",
       "    <tr>\n",
       "      <th>1</th>\n",
       "      <td>11</td>\n",
       "      <td>10</td>\n",
       "      <td>1126.574680</td>\n",
       "      <td>1046.949919</td>\n",
       "      <td>79.624762</td>\n",
       "      <td>1</td>\n",
       "      <td>1</td>\n",
       "      <td>1</td>\n",
       "    </tr>\n",
       "    <tr>\n",
       "      <th>2</th>\n",
       "      <td>18</td>\n",
       "      <td>6</td>\n",
       "      <td>1104.560943</td>\n",
       "      <td>1102.326819</td>\n",
       "      <td>2.234125</td>\n",
       "      <td>1</td>\n",
       "      <td>3</td>\n",
       "      <td>1</td>\n",
       "    </tr>\n",
       "    <tr>\n",
       "      <th>3</th>\n",
       "      <td>24</td>\n",
       "      <td>44</td>\n",
       "      <td>1133.578834</td>\n",
       "      <td>1125.887327</td>\n",
       "      <td>7.691507</td>\n",
       "      <td>1</td>\n",
       "      <td>1</td>\n",
       "      <td>1</td>\n",
       "    </tr>\n",
       "    <tr>\n",
       "      <th>4</th>\n",
       "      <td>39</td>\n",
       "      <td>14</td>\n",
       "      <td>1042.278838</td>\n",
       "      <td>1151.599784</td>\n",
       "      <td>-109.320946</td>\n",
       "      <td>1</td>\n",
       "      <td>2</td>\n",
       "      <td>1</td>\n",
       "    </tr>\n",
       "    <tr>\n",
       "      <th>5</th>\n",
       "      <td>12</td>\n",
       "      <td>2</td>\n",
       "      <td>1153.518628</td>\n",
       "      <td>1340.098247</td>\n",
       "      <td>-186.579619</td>\n",
       "      <td>1</td>\n",
       "      <td>3</td>\n",
       "      <td>3</td>\n",
       "    </tr>\n",
       "    <tr>\n",
       "      <th>6</th>\n",
       "      <td>5</td>\n",
       "      <td>61</td>\n",
       "      <td>1283.247835</td>\n",
       "      <td>1058.968291</td>\n",
       "      <td>224.279543</td>\n",
       "      <td>1</td>\n",
       "      <td>1</td>\n",
       "      <td>1</td>\n",
       "    </tr>\n",
       "    <tr>\n",
       "      <th>7</th>\n",
       "      <td>48</td>\n",
       "      <td>16</td>\n",
       "      <td>1068.675329</td>\n",
       "      <td>1159.239349</td>\n",
       "      <td>-90.564021</td>\n",
       "      <td>1</td>\n",
       "      <td>3</td>\n",
       "      <td>1</td>\n",
       "    </tr>\n",
       "    <tr>\n",
       "      <th>8</th>\n",
       "      <td>49</td>\n",
       "      <td>22</td>\n",
       "      <td>1074.563442</td>\n",
       "      <td>1090.916743</td>\n",
       "      <td>-16.353302</td>\n",
       "      <td>1</td>\n",
       "      <td>1</td>\n",
       "      <td>1</td>\n",
       "    </tr>\n",
       "    <tr>\n",
       "      <th>9</th>\n",
       "      <td>30</td>\n",
       "      <td>58</td>\n",
       "      <td>1186.422712</td>\n",
       "      <td>1128.449952</td>\n",
       "      <td>57.972760</td>\n",
       "      <td>1</td>\n",
       "      <td>2</td>\n",
       "      <td>1</td>\n",
       "    </tr>\n",
       "  </tbody>\n",
       "</table>\n",
       "</div>"
      ],
      "text/plain": [
       "   Local_id  Away_id    Local_Elo     Away_Elo    Elo_diff  division  y_real  \\\n",
       "0        40        1  1149.368635  1119.231116   30.137519         1       1   \n",
       "1        11       10  1126.574680  1046.949919   79.624762         1       1   \n",
       "2        18        6  1104.560943  1102.326819    2.234125         1       3   \n",
       "3        24       44  1133.578834  1125.887327    7.691507         1       1   \n",
       "4        39       14  1042.278838  1151.599784 -109.320946         1       2   \n",
       "5        12        2  1153.518628  1340.098247 -186.579619         1       3   \n",
       "6         5       61  1283.247835  1058.968291  224.279543         1       1   \n",
       "7        48       16  1068.675329  1159.239349  -90.564021         1       3   \n",
       "8        49       22  1074.563442  1090.916743  -16.353302         1       1   \n",
       "9        30       58  1186.422712  1128.449952   57.972760         1       2   \n",
       "\n",
       "   y_pred  \n",
       "0       1  \n",
       "1       1  \n",
       "2       1  \n",
       "3       1  \n",
       "4       1  \n",
       "5       3  \n",
       "6       1  \n",
       "7       1  \n",
       "8       1  \n",
       "9       1  "
      ]
     },
     "execution_count": 12,
     "metadata": {},
     "output_type": "execute_result"
    }
   ],
   "source": [
    "final_pred = gbm_model.predict(df_predictions[features])\n",
    "\n",
    "final_results_df = df_predictions[features].copy()\n",
    "final_results_df[\"y_real\"] = df_predictions['results_encoded']\n",
    "final_results_df[\"y_pred\"] = final_pred.astype(int)\n",
    "final_results_df"
   ]
  },
  {
   "cell_type": "code",
   "execution_count": 15,
   "metadata": {},
   "outputs": [
    {
     "name": "stdout",
     "output_type": "stream",
     "text": [
      "Accuracy: 0.6000\n"
     ]
    }
   ],
   "source": [
    "accuracy = accuracy_score(df_predictions['results_encoded'], final_pred)\n",
    "print(f\"Accuracy: {accuracy:.4f}\")"
   ]
  },
  {
   "cell_type": "markdown",
   "metadata": {},
   "source": [
    "The accuracy of the model for the prediction data is 60% for matchday 3 of season 2021-2022."
   ]
  }
 ],
 "metadata": {
  "kernelspec": {
   "display_name": "venv",
   "language": "python",
   "name": "python3"
  },
  "language_info": {
   "codemirror_mode": {
    "name": "ipython",
    "version": 3
   },
   "file_extension": ".py",
   "mimetype": "text/x-python",
   "name": "python",
   "nbconvert_exporter": "python",
   "pygments_lexer": "ipython3",
   "version": "3.10.1"
  }
 },
 "nbformat": 4,
 "nbformat_minor": 2
}
